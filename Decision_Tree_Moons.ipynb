{
 "cells": [
  {
   "cell_type": "markdown",
   "metadata": {},
   "source": [
    "# Load Data"
   ]
  },
  {
   "cell_type": "code",
   "execution_count": 1,
   "metadata": {},
   "outputs": [],
   "source": [
    "from sklearn.datasets import make_moons\n",
    "\n",
    "data = make_moons(n_samples=10000, noise= 0.4)\n",
    "X = data[0]\n",
    "y = data[1]"
   ]
  },
  {
   "cell_type": "markdown",
   "metadata": {},
   "source": [
    "# Explore Data"
   ]
  },
  {
   "cell_type": "code",
   "execution_count": 2,
   "metadata": {},
   "outputs": [
    {
     "data": {
      "text/plain": [
       "0.3772409218897265"
      ]
     },
     "execution_count": 2,
     "metadata": {},
     "output_type": "execute_result"
    }
   ],
   "source": [
    "import pandas as pd\n",
    "import numpy as np\n",
    "\n",
    "y.mean() #Values are either 0 or 1\n",
    "X.mean() # values range from -2.17 to 3.23"
   ]
  },
  {
   "cell_type": "markdown",
   "metadata": {},
   "source": [
    "# Split Data"
   ]
  },
  {
   "cell_type": "code",
   "execution_count": 3,
   "metadata": {},
   "outputs": [],
   "source": [
    "from sklearn.model_selection import train_test_split \n",
    "\n",
    "X_train, X_test, y_train, y_test = train_test_split(X, y, test_size= 0.2, random_state=42)"
   ]
  },
  {
   "cell_type": "markdown",
   "metadata": {},
   "source": [
    "# Train Decision Tree using Grid Search\n",
    "Typically, you would train several models. \n",
    "\n",
    "Gini impurity is the default but I have assigned it here to remind us that is still there and that we have an option of using Entropy impurity instead. \n",
    "\n",
    "max_leaf_nodes = maximum number of leaf nodes\n",
    "min_samples_split = minimum number of instances per node before it can be split. "
   ]
  },
  {
   "cell_type": "code",
   "execution_count": 4,
   "metadata": {},
   "outputs": [
    {
     "name": "stdout",
     "output_type": "stream",
     "text": [
      "Fitting 3 folds for each of 784 candidates, totalling 2352 fits\n"
     ]
    },
    {
     "name": "stderr",
     "output_type": "stream",
     "text": [
      "[Parallel(n_jobs=1)]: Using backend SequentialBackend with 1 concurrent workers.\n",
      "[Parallel(n_jobs=1)]: Done 2352 out of 2352 | elapsed:   33.3s finished\n"
     ]
    },
    {
     "data": {
      "text/plain": [
       "GridSearchCV(cv=3, error_score='accuracy_score',\n",
       "             estimator=DecisionTreeClassifier(ccp_alpha=0.0, class_weight=None,\n",
       "                                              criterion='gini', max_depth=None,\n",
       "                                              max_features=None,\n",
       "                                              max_leaf_nodes=None,\n",
       "                                              min_impurity_decrease=0.0,\n",
       "                                              min_impurity_split=None,\n",
       "                                              min_samples_leaf=1,\n",
       "                                              min_samples_split=2,\n",
       "                                              min_weight_fraction_leaf=0.0,\n",
       "                                              presort='deprecated',\n",
       "                                              random_state=42,\n",
       "                                              splitter='best'),\n",
       "             iid='deprecated', n_jobs=None,\n",
       "             param_grid={'max_leaf_nodes': [2, 3, 4, 5, 6, 7, 8, 9, 10, 11, 12,\n",
       "                                            13, 14, 15, 16, 17, 18, 19, 20, 21,\n",
       "                                            22, 23, 24, 25, 26, 27, 28, 29, 30,\n",
       "                                            31, ...],\n",
       "                         'min_samples_split': [2, 3, 4, 5, 6, 7, 8, 9]},\n",
       "             pre_dispatch='2*n_jobs', refit=True, return_train_score=False,\n",
       "             scoring=None, verbose=1)"
      ]
     },
     "execution_count": 4,
     "metadata": {},
     "output_type": "execute_result"
    }
   ],
   "source": [
    "from sklearn.tree import DecisionTreeClassifier\n",
    "from sklearn.model_selection import GridSearchCV\n",
    "\n",
    "tree_clf = DecisionTreeClassifier(random_state= 42, criterion= 'gini') #Use Gini not entropy\n",
    "parameters = {'max_leaf_nodes' : list(range(2, 100)), 'min_samples_split' : list(range(2, 10))}\n",
    "grid__tree = GridSearchCV(estimator= tree_clf, cv= 3, error_score= 'accuracy_score',\n",
    "                         param_grid=parameters, verbose= 1)\n",
    "\n",
    "grid__tree.fit(X_train, y_train)"
   ]
  },
  {
   "cell_type": "code",
   "execution_count": 5,
   "metadata": {},
   "outputs": [],
   "source": [
    "best_grid = grid__tree.best_estimator_"
   ]
  },
  {
   "cell_type": "code",
   "execution_count": 6,
   "metadata": {},
   "outputs": [
    {
     "data": {
      "text/plain": [
       "0.868"
      ]
     },
     "execution_count": 6,
     "metadata": {},
     "output_type": "execute_result"
    }
   ],
   "source": [
    "from sklearn.metrics import accuracy_score\n",
    "\n",
    "y_pred = best_grid.predict(X_test)\n",
    "accuracy_score(y_pred, y_test)"
   ]
  },
  {
   "cell_type": "markdown",
   "metadata": {},
   "source": [
    "# 85.95% accuracy is not bad. \n",
    "\n",
    "#### Let's try use ShuffledSplit to create a Random Forest Classifer (without actually using SKLearn's RandomForest classifier).\n",
    "\n",
    "Hopefully, this will improve our results!! \n",
    "\n",
    "#### First, Shuffle the Data set into seperate test sets"
   ]
  },
  {
   "cell_type": "code",
   "execution_count": 7,
   "metadata": {},
   "outputs": [],
   "source": [
    "from sklearn.model_selection import ShuffleSplit\n",
    "\n",
    "ss = ShuffleSplit(random_state= 42, n_splits=1000, train_size= 100) #split the set by 1000\n",
    "\n",
    "mini_tests = []\n",
    "\n",
    "for train_index, test_index in ss.split(X_train):\n",
    "    X_split_train = X_train[train_index]\n",
    "    y_split_train = y_train[train_index]\n",
    "    mini_tests.append((X_split_train, y_split_train))\n"
   ]
  },
  {
   "cell_type": "markdown",
   "metadata": {},
   "source": [
    "#### now that we have 1000 subsets of 100 instances, we can now train our forest using the best_estimator value produced by the Grid Search CV. \n",
    "\n",
    "### We need to reproduce the same tree from before, <u> do not fit the same tree with the same model across the small samples </u> . If you train the same model over and over again, you will see accuracy jump up to 90%. This is because you are overfitting the data. I have kept the incorrect code hashed out, explore the difference. The sklearn's 'clone' function clones the model again and again. \n",
    "\n",
    "\n",
    "### Correctly implementing the forest will lead to a reduction in the mean accuracy score because there is a smaller data set to train the model to. "
   ]
  },
  {
   "cell_type": "code",
   "execution_count": 8,
   "metadata": {},
   "outputs": [
    {
     "data": {
      "text/plain": [
       "0.86616"
      ]
     },
     "execution_count": 8,
     "metadata": {},
     "output_type": "execute_result"
    }
   ],
   "source": [
    "# wrong_accuracy_scores= []\n",
    "\n",
    "# for sets in mini_tests:\n",
    "#     X_mini = sets[0]\n",
    "#     y_mini = sets[1]\n",
    "#     best_grid.fit(X_mini, y_mini)\n",
    "#     y_mini_pred = best_grid.predict(X_mini)\n",
    "#     wrong_accuracy_scores.append(accuracy_score(y_mini_pred, y_mini))\n",
    "# print(np.mean(wrong_accuracy_scores))\n",
    "\n",
    "\n",
    "import numpy as np\n",
    "from sklearn.base import clone\n",
    "\n",
    "forests = [clone(best_grid) for _ in range(1000)]\n",
    "\n",
    "accuracy_scores= []\n",
    "\n",
    "for forest, sets in zip(forests, mini_tests):\n",
    "    X_mini = sets[0]\n",
    "    y_mini = sets[1]\n",
    "    forest.fit(X_mini, y_mini)\n",
    "    y_mini_pred = best_grid.predict(X_mini)\n",
    "    accuracy_scores.append(accuracy_score(y_mini_pred, y_mini))\n",
    "\n",
    "np.mean(accuracy_scores)"
   ]
  },
  {
   "cell_type": "markdown",
   "metadata": {},
   "source": [
    "### Find the Mode across each prediction, across the 1000's of subsets, using SciPy's mode() function. This gives the majority vote prediction over the test set. "
   ]
  },
  {
   "cell_type": "code",
   "execution_count": 9,
   "metadata": {},
   "outputs": [],
   "source": [
    "import numpy as np \n",
    "\n",
    "#create an empty array where you will hold all the predictions of y for each tree\n",
    "#Splitting the subset where the rows represent a tree's prediction\n",
    "#and each Column represents  prediction for that number of X_test\n",
    "y_pred = np.empty([1000, len(X_test)], dtype=np.uint8)  #convert all numbers into integers\n",
    "\n",
    "\n",
    "for tree_index, tree in enumerate(forests):\n",
    "    y_pred[tree_index] = tree.predict(X_test)\n",
    "# best_grid.predict(X_test) #reminder that .predict gives you a predictions as a 1 x m matrix."
   ]
  },
  {
   "cell_type": "markdown",
   "metadata": {},
   "source": [
    "####  y_pred are the predictions for X_test where the rows represent a trained tree (i.e. 1000 trees) and the columns represents the predictions of X_test for each instance\n",
    "for example: \n",
    "                \n",
    "\n",
    "###### trees|            X_test_predictions    \n",
    "######                      0    |  0     1     0     1    0    1\n",
    "\n",
    "######                      1    |  1     0     1     0    1    1\n",
    "\n",
    "######                      2    |  0     1     0     1    0    0  \n",
    "\n",
    "######                      3    |  0     1     0     1    0    1 "
   ]
  },
  {
   "cell_type": "code",
   "execution_count": 10,
   "metadata": {},
   "outputs": [
    {
     "data": {
      "text/plain": [
       "array([[1, 1, 1, ..., 0, 0, 0]], dtype=uint8)"
      ]
     },
     "execution_count": 10,
     "metadata": {},
     "output_type": "execute_result"
    }
   ],
   "source": [
    "#find the most 'voted' prediction across all the trees and use that to calculate the accuracy \n",
    "\n",
    "from scipy.stats import mode\n",
    "\n",
    "y_pred_forest_mode, votes = mode(y_pred, axis=0)\n",
    "y_pred_forest_mode#.reshape(-1,1) #data so that each instance's prediction is a row not column"
   ]
  },
  {
   "cell_type": "code",
   "execution_count": 11,
   "metadata": {},
   "outputs": [
    {
     "data": {
      "text/plain": [
       "0.8715"
      ]
     },
     "execution_count": 11,
     "metadata": {},
     "output_type": "execute_result"
    }
   ],
   "source": [
    "accuracy_score(y_pred_forest_mode.reshape(-1,1), y_test)"
   ]
  },
  {
   "cell_type": "markdown",
   "metadata": {},
   "source": [
    "# 86.25% accuracy is a marginal increase compared to the 85.95% accuracy previously. \n",
    "\n",
    "# A 0.30% accuracy increase for manual implementation of a RandomForestClassifier.\n",
    "Now you know how it works! Glad we have the Class to do all this for us!\n",
    "\n"
   ]
  }
 ],
 "metadata": {
  "kernelspec": {
   "display_name": "TrainingPython3",
   "language": "python",
   "name": "trainingpython3"
  },
  "language_info": {
   "codemirror_mode": {
    "name": "ipython",
    "version": 3
   },
   "file_extension": ".py",
   "mimetype": "text/x-python",
   "name": "python",
   "nbconvert_exporter": "python",
   "pygments_lexer": "ipython3",
   "version": "3.8.2"
  }
 },
 "nbformat": 4,
 "nbformat_minor": 4
}
